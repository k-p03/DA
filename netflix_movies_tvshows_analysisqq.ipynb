{
  "cells": [
    {
      "cell_type": "markdown",
      "metadata": {
        "id": "XauA72667njo"
      },
      "source": [
        "# Analysis of Content on Netflix\n",
        "\n",
        "Netflix is an OTT(Over-the-top media) platform which has large number of movies and tvshows.\n",
        "\n",
        "In this notebook we'll take a look at the Netflix dataset and try to answer some questions"
      ]
    },
    {
      "cell_type": "markdown",
      "metadata": {
        "id": "nTK3csNE7njr"
      },
      "source": [
        " "
      ]
    },
    {
      "cell_type": "code",
      "execution_count": null,
      "metadata": {
        "id": "SXrF_Fr_7njs"
      },
      "outputs": [],
      "source": [
        "project_name = \"netflix-movies-tvshows-analysis\"\n",
        "file_name = 'netflix_titles-1.csv'"
      ]
    },
    {
      "cell_type": "code",
      "execution_count": null,
      "metadata": {
        "id": "DfTRXlKi7njt"
      },
      "outputs": [],
      "source": [
        "!pip install jovian --upgrade -q"
      ]
    },
    {
      "cell_type": "code",
      "execution_count": null,
      "metadata": {
        "id": "PhBXcuHe7njt"
      },
      "outputs": [],
      "source": [
        "import jovian"
      ]
    },
    {
      "cell_type": "code",
      "execution_count": null,
      "metadata": {
        "id": "fkdMu2_B7njt",
        "outputId": "9155f80e-f87b-4ed2-89b6-e1cc1d645a0f"
      },
      "outputs": [
        {
          "data": {
            "application/javascript": [
              "window.require && require([\"base/js/namespace\"],function(Jupyter){Jupyter.notebook.save_checkpoint()})"
            ],
            "text/plain": [
              "<IPython.core.display.Javascript object>"
            ]
          },
          "metadata": {},
          "output_type": "display_data"
        },
        {
          "name": "stdout",
          "output_type": "stream",
          "text": [
            "[jovian] Attempting to save notebook..\u001b[0m\n",
            "[jovian] Updating notebook \"kanishkapatil03/netflix-movies-tvshows-analysis\" on https://jovian.ml/\u001b[0m\n",
            "[jovian] Uploading notebook..\u001b[0m\n",
            "[jovian] Capturing environment..\u001b[0m\n",
            "[jovian] Uploading additional files...\u001b[0m\n",
            "[jovian] Committed successfully! https://jovian.ml/kanishkapatil03/netflix-movies-tvshows-analysis\u001b[0m\n"
          ]
        },
        {
          "data": {
            "text/plain": [
              "'https://jovian.ml/kanishkapatil03/netflix-movies-tvshows-analysis'"
            ]
          },
          "execution_count": 4,
          "metadata": {},
          "output_type": "execute_result"
        }
      ],
      "source": [
        "jovian.commit(project=project_name,files = [file_name])"
      ]
    },
    {
      "cell_type": "markdown",
      "metadata": {
        "id": "soPp6rLd7nju"
      },
      "source": [
        "## Data Preparation and Cleaning\n",
        "\n",
        "First we will have a peek at the dataset to get basic overview of the data"
      ]
    },
    {
      "cell_type": "code",
      "execution_count": null,
      "metadata": {
        "id": "T9aaLRAA7nju"
      },
      "outputs": [],
      "source": [
        "import pandas as pd\n",
        "import seaborn as sns\n",
        "import matplotlib.pyplot as plt"
      ]
    },
    {
      "cell_type": "code",
      "execution_count": null,
      "metadata": {
        "id": "TTR1rcyC7nju"
      },
      "outputs": [],
      "source": [
        "netflix_data_raw = pd.read_csv('netflix_titles-1.csv')"
      ]
    },
    {
      "cell_type": "code",
      "execution_count": null,
      "metadata": {
        "id": "QdwcB8zS7njv",
        "outputId": "5ceddc0e-0f1b-4c2e-ace1-7783275aa78c"
      },
      "outputs": [
        {
          "name": "stdout",
          "output_type": "stream",
          "text": [
            "<class 'pandas.core.frame.DataFrame'>\n",
            "RangeIndex: 6234 entries, 0 to 6233\n",
            "Data columns (total 12 columns):\n",
            " #   Column        Non-Null Count  Dtype \n",
            "---  ------        --------------  ----- \n",
            " 0   show_id       6234 non-null   int64 \n",
            " 1   type          6234 non-null   object\n",
            " 2   title         6234 non-null   object\n",
            " 3   director      4265 non-null   object\n",
            " 4   cast          5664 non-null   object\n",
            " 5   country       5758 non-null   object\n",
            " 6   date_added    6223 non-null   object\n",
            " 7   release_year  6234 non-null   int64 \n",
            " 8   rating        6224 non-null   object\n",
            " 9   duration      6234 non-null   object\n",
            " 10  listed_in     6234 non-null   object\n",
            " 11  description   6234 non-null   object\n",
            "dtypes: int64(2), object(10)\n",
            "memory usage: 584.6+ KB\n"
          ]
        }
      ],
      "source": [
        "netflix_data_raw.info()"
      ]
    },
    {
      "cell_type": "code",
      "execution_count": null,
      "metadata": {
        "id": "JLxz-42D7njv",
        "outputId": "5a485db1-f8de-438f-9525-17770e1c5f6a"
      },
      "outputs": [
        {
          "data": {
            "text/html": [
              "<div>\n",
              "<style scoped>\n",
              "    .dataframe tbody tr th:only-of-type {\n",
              "        vertical-align: middle;\n",
              "    }\n",
              "\n",
              "    .dataframe tbody tr th {\n",
              "        vertical-align: top;\n",
              "    }\n",
              "\n",
              "    .dataframe thead th {\n",
              "        text-align: right;\n",
              "    }\n",
              "</style>\n",
              "<table border=\"1\" class=\"dataframe\">\n",
              "  <thead>\n",
              "    <tr style=\"text-align: right;\">\n",
              "      <th></th>\n",
              "      <th>show_id</th>\n",
              "      <th>type</th>\n",
              "      <th>title</th>\n",
              "      <th>director</th>\n",
              "      <th>cast</th>\n",
              "      <th>country</th>\n",
              "      <th>date_added</th>\n",
              "      <th>release_year</th>\n",
              "      <th>rating</th>\n",
              "      <th>duration</th>\n",
              "      <th>listed_in</th>\n",
              "      <th>description</th>\n",
              "    </tr>\n",
              "  </thead>\n",
              "  <tbody>\n",
              "    <tr>\n",
              "      <th>0</th>\n",
              "      <td>81145628</td>\n",
              "      <td>Movie</td>\n",
              "      <td>Norm of the North: King Sized Adventure</td>\n",
              "      <td>Richard Finn, Tim Maltby</td>\n",
              "      <td>Alan Marriott, Andrew Toth, Brian Dobson, Cole...</td>\n",
              "      <td>United States, India, South Korea, China</td>\n",
              "      <td>September 9, 2019</td>\n",
              "      <td>2019</td>\n",
              "      <td>TV-PG</td>\n",
              "      <td>90 min</td>\n",
              "      <td>Children &amp; Family Movies, Comedies</td>\n",
              "      <td>Before planning an awesome wedding for his gra...</td>\n",
              "    </tr>\n",
              "    <tr>\n",
              "      <th>1</th>\n",
              "      <td>80117401</td>\n",
              "      <td>Movie</td>\n",
              "      <td>Jandino: Whatever it Takes</td>\n",
              "      <td>NaN</td>\n",
              "      <td>Jandino Asporaat</td>\n",
              "      <td>United Kingdom</td>\n",
              "      <td>September 9, 2016</td>\n",
              "      <td>2016</td>\n",
              "      <td>TV-MA</td>\n",
              "      <td>94 min</td>\n",
              "      <td>Stand-Up Comedy</td>\n",
              "      <td>Jandino Asporaat riffs on the challenges of ra...</td>\n",
              "    </tr>\n",
              "    <tr>\n",
              "      <th>2</th>\n",
              "      <td>70234439</td>\n",
              "      <td>TV Show</td>\n",
              "      <td>Transformers Prime</td>\n",
              "      <td>NaN</td>\n",
              "      <td>Peter Cullen, Sumalee Montano, Frank Welker, J...</td>\n",
              "      <td>United States</td>\n",
              "      <td>September 8, 2018</td>\n",
              "      <td>2013</td>\n",
              "      <td>TV-Y7-FV</td>\n",
              "      <td>1 Season</td>\n",
              "      <td>Kids' TV</td>\n",
              "      <td>With the help of three human allies, the Autob...</td>\n",
              "    </tr>\n",
              "    <tr>\n",
              "      <th>3</th>\n",
              "      <td>80058654</td>\n",
              "      <td>TV Show</td>\n",
              "      <td>Transformers: Robots in Disguise</td>\n",
              "      <td>NaN</td>\n",
              "      <td>Will Friedle, Darren Criss, Constance Zimmer, ...</td>\n",
              "      <td>United States</td>\n",
              "      <td>September 8, 2018</td>\n",
              "      <td>2016</td>\n",
              "      <td>TV-Y7</td>\n",
              "      <td>1 Season</td>\n",
              "      <td>Kids' TV</td>\n",
              "      <td>When a prison ship crash unleashes hundreds of...</td>\n",
              "    </tr>\n",
              "    <tr>\n",
              "      <th>4</th>\n",
              "      <td>80125979</td>\n",
              "      <td>Movie</td>\n",
              "      <td>#realityhigh</td>\n",
              "      <td>Fernando Lebrija</td>\n",
              "      <td>Nesta Cooper, Kate Walsh, John Michael Higgins...</td>\n",
              "      <td>United States</td>\n",
              "      <td>September 8, 2017</td>\n",
              "      <td>2017</td>\n",
              "      <td>TV-14</td>\n",
              "      <td>99 min</td>\n",
              "      <td>Comedies</td>\n",
              "      <td>When nerdy high schooler Dani finally attracts...</td>\n",
              "    </tr>\n",
              "    <tr>\n",
              "      <th>...</th>\n",
              "      <td>...</td>\n",
              "      <td>...</td>\n",
              "      <td>...</td>\n",
              "      <td>...</td>\n",
              "      <td>...</td>\n",
              "      <td>...</td>\n",
              "      <td>...</td>\n",
              "      <td>...</td>\n",
              "      <td>...</td>\n",
              "      <td>...</td>\n",
              "      <td>...</td>\n",
              "      <td>...</td>\n",
              "    </tr>\n",
              "    <tr>\n",
              "      <th>6229</th>\n",
              "      <td>80000063</td>\n",
              "      <td>TV Show</td>\n",
              "      <td>Red vs. Blue</td>\n",
              "      <td>NaN</td>\n",
              "      <td>Burnie Burns, Jason Saldaña, Gustavo Sorola, G...</td>\n",
              "      <td>United States</td>\n",
              "      <td>NaN</td>\n",
              "      <td>2015</td>\n",
              "      <td>NR</td>\n",
              "      <td>13 Seasons</td>\n",
              "      <td>TV Action &amp; Adventure, TV Comedies, TV Sci-Fi ...</td>\n",
              "      <td>This parody of first-person shooter games, mil...</td>\n",
              "    </tr>\n",
              "    <tr>\n",
              "      <th>6230</th>\n",
              "      <td>70286564</td>\n",
              "      <td>TV Show</td>\n",
              "      <td>Maron</td>\n",
              "      <td>NaN</td>\n",
              "      <td>Marc Maron, Judd Hirsch, Josh Brener, Nora Zeh...</td>\n",
              "      <td>United States</td>\n",
              "      <td>NaN</td>\n",
              "      <td>2016</td>\n",
              "      <td>TV-MA</td>\n",
              "      <td>4 Seasons</td>\n",
              "      <td>TV Comedies</td>\n",
              "      <td>Marc Maron stars as Marc Maron, who interviews...</td>\n",
              "    </tr>\n",
              "    <tr>\n",
              "      <th>6231</th>\n",
              "      <td>80116008</td>\n",
              "      <td>Movie</td>\n",
              "      <td>Little Baby Bum: Nursery Rhyme Friends</td>\n",
              "      <td>NaN</td>\n",
              "      <td>NaN</td>\n",
              "      <td>NaN</td>\n",
              "      <td>NaN</td>\n",
              "      <td>2016</td>\n",
              "      <td>NaN</td>\n",
              "      <td>60 min</td>\n",
              "      <td>Movies</td>\n",
              "      <td>Nursery rhymes and original music for children...</td>\n",
              "    </tr>\n",
              "    <tr>\n",
              "      <th>6232</th>\n",
              "      <td>70281022</td>\n",
              "      <td>TV Show</td>\n",
              "      <td>A Young Doctor's Notebook and Other Stories</td>\n",
              "      <td>NaN</td>\n",
              "      <td>Daniel Radcliffe, Jon Hamm, Adam Godley, Chris...</td>\n",
              "      <td>United Kingdom</td>\n",
              "      <td>NaN</td>\n",
              "      <td>2013</td>\n",
              "      <td>TV-MA</td>\n",
              "      <td>2 Seasons</td>\n",
              "      <td>British TV Shows, TV Comedies, TV Dramas</td>\n",
              "      <td>Set during the Russian Revolution, this comic ...</td>\n",
              "    </tr>\n",
              "    <tr>\n",
              "      <th>6233</th>\n",
              "      <td>70153404</td>\n",
              "      <td>TV Show</td>\n",
              "      <td>Friends</td>\n",
              "      <td>NaN</td>\n",
              "      <td>Jennifer Aniston, Courteney Cox, Lisa Kudrow, ...</td>\n",
              "      <td>United States</td>\n",
              "      <td>NaN</td>\n",
              "      <td>2003</td>\n",
              "      <td>TV-14</td>\n",
              "      <td>10 Seasons</td>\n",
              "      <td>Classic &amp; Cult TV, TV Comedies</td>\n",
              "      <td>This hit sitcom follows the merry misadventure...</td>\n",
              "    </tr>\n",
              "  </tbody>\n",
              "</table>\n",
              "<p>6234 rows × 12 columns</p>\n",
              "</div>"
            ],
            "text/plain": [
              "       show_id     type                                        title  \\\n",
              "0     81145628    Movie      Norm of the North: King Sized Adventure   \n",
              "1     80117401    Movie                   Jandino: Whatever it Takes   \n",
              "2     70234439  TV Show                           Transformers Prime   \n",
              "3     80058654  TV Show             Transformers: Robots in Disguise   \n",
              "4     80125979    Movie                                 #realityhigh   \n",
              "...        ...      ...                                          ...   \n",
              "6229  80000063  TV Show                                 Red vs. Blue   \n",
              "6230  70286564  TV Show                                        Maron   \n",
              "6231  80116008    Movie       Little Baby Bum: Nursery Rhyme Friends   \n",
              "6232  70281022  TV Show  A Young Doctor's Notebook and Other Stories   \n",
              "6233  70153404  TV Show                                      Friends   \n",
              "\n",
              "                      director  \\\n",
              "0     Richard Finn, Tim Maltby   \n",
              "1                          NaN   \n",
              "2                          NaN   \n",
              "3                          NaN   \n",
              "4             Fernando Lebrija   \n",
              "...                        ...   \n",
              "6229                       NaN   \n",
              "6230                       NaN   \n",
              "6231                       NaN   \n",
              "6232                       NaN   \n",
              "6233                       NaN   \n",
              "\n",
              "                                                   cast  \\\n",
              "0     Alan Marriott, Andrew Toth, Brian Dobson, Cole...   \n",
              "1                                      Jandino Asporaat   \n",
              "2     Peter Cullen, Sumalee Montano, Frank Welker, J...   \n",
              "3     Will Friedle, Darren Criss, Constance Zimmer, ...   \n",
              "4     Nesta Cooper, Kate Walsh, John Michael Higgins...   \n",
              "...                                                 ...   \n",
              "6229  Burnie Burns, Jason Saldaña, Gustavo Sorola, G...   \n",
              "6230  Marc Maron, Judd Hirsch, Josh Brener, Nora Zeh...   \n",
              "6231                                                NaN   \n",
              "6232  Daniel Radcliffe, Jon Hamm, Adam Godley, Chris...   \n",
              "6233  Jennifer Aniston, Courteney Cox, Lisa Kudrow, ...   \n",
              "\n",
              "                                       country         date_added  \\\n",
              "0     United States, India, South Korea, China  September 9, 2019   \n",
              "1                               United Kingdom  September 9, 2016   \n",
              "2                                United States  September 8, 2018   \n",
              "3                                United States  September 8, 2018   \n",
              "4                                United States  September 8, 2017   \n",
              "...                                        ...                ...   \n",
              "6229                             United States                NaN   \n",
              "6230                             United States                NaN   \n",
              "6231                                       NaN                NaN   \n",
              "6232                            United Kingdom                NaN   \n",
              "6233                             United States                NaN   \n",
              "\n",
              "      release_year    rating    duration  \\\n",
              "0             2019     TV-PG      90 min   \n",
              "1             2016     TV-MA      94 min   \n",
              "2             2013  TV-Y7-FV    1 Season   \n",
              "3             2016     TV-Y7    1 Season   \n",
              "4             2017     TV-14      99 min   \n",
              "...            ...       ...         ...   \n",
              "6229          2015        NR  13 Seasons   \n",
              "6230          2016     TV-MA   4 Seasons   \n",
              "6231          2016       NaN      60 min   \n",
              "6232          2013     TV-MA   2 Seasons   \n",
              "6233          2003     TV-14  10 Seasons   \n",
              "\n",
              "                                              listed_in  \\\n",
              "0                    Children & Family Movies, Comedies   \n",
              "1                                       Stand-Up Comedy   \n",
              "2                                              Kids' TV   \n",
              "3                                              Kids' TV   \n",
              "4                                              Comedies   \n",
              "...                                                 ...   \n",
              "6229  TV Action & Adventure, TV Comedies, TV Sci-Fi ...   \n",
              "6230                                        TV Comedies   \n",
              "6231                                             Movies   \n",
              "6232           British TV Shows, TV Comedies, TV Dramas   \n",
              "6233                     Classic & Cult TV, TV Comedies   \n",
              "\n",
              "                                            description  \n",
              "0     Before planning an awesome wedding for his gra...  \n",
              "1     Jandino Asporaat riffs on the challenges of ra...  \n",
              "2     With the help of three human allies, the Autob...  \n",
              "3     When a prison ship crash unleashes hundreds of...  \n",
              "4     When nerdy high schooler Dani finally attracts...  \n",
              "...                                                 ...  \n",
              "6229  This parody of first-person shooter games, mil...  \n",
              "6230  Marc Maron stars as Marc Maron, who interviews...  \n",
              "6231  Nursery rhymes and original music for children...  \n",
              "6232  Set during the Russian Revolution, this comic ...  \n",
              "6233  This hit sitcom follows the merry misadventure...  \n",
              "\n",
              "[6234 rows x 12 columns]"
            ]
          },
          "execution_count": 8,
          "metadata": {},
          "output_type": "execute_result"
        }
      ],
      "source": [
        "netflix_data_raw"
      ]
    },
    {
      "cell_type": "code",
      "execution_count": null,
      "metadata": {
        "id": "_mwX8YN27njv",
        "outputId": "8b1a09e4-e24a-446d-fc85-d9b006891e3e"
      },
      "outputs": [
        {
          "data": {
            "text/plain": [
              "show_id            0\n",
              "type               0\n",
              "title              0\n",
              "director        1969\n",
              "cast             570\n",
              "country          476\n",
              "date_added        11\n",
              "release_year       0\n",
              "rating            10\n",
              "duration           0\n",
              "listed_in          0\n",
              "description        0\n",
              "dtype: int64"
            ]
          },
          "execution_count": 9,
          "metadata": {},
          "output_type": "execute_result"
        }
      ],
      "source": [
        "netflix_data_raw.isna().sum()"
      ]
    },
    {
      "cell_type": "markdown",
      "metadata": {
        "id": "dQ6Ei3uC7njv"
      },
      "source": [
        "As you can see above there are NaN values in few columns.\n",
        "We will be removing the \"director\" and \"cast\" columns as they are not needed in this case"
      ]
    },
    {
      "cell_type": "code",
      "execution_count": null,
      "metadata": {
        "id": "2DzR9DTm7njv"
      },
      "outputs": [],
      "source": [
        "netflix_data_raw.drop(columns = ['director', 'cast'], inplace =True)"
      ]
    },
    {
      "cell_type": "code",
      "execution_count": null,
      "metadata": {
        "id": "tVQBO0Yk7njw",
        "outputId": "30334db0-1f3b-404b-9f07-c9de10383116"
      },
      "outputs": [
        {
          "data": {
            "text/html": [
              "<div>\n",
              "<style scoped>\n",
              "    .dataframe tbody tr th:only-of-type {\n",
              "        vertical-align: middle;\n",
              "    }\n",
              "\n",
              "    .dataframe tbody tr th {\n",
              "        vertical-align: top;\n",
              "    }\n",
              "\n",
              "    .dataframe thead th {\n",
              "        text-align: right;\n",
              "    }\n",
              "</style>\n",
              "<table border=\"1\" class=\"dataframe\">\n",
              "  <thead>\n",
              "    <tr style=\"text-align: right;\">\n",
              "      <th></th>\n",
              "      <th>show_id</th>\n",
              "      <th>type</th>\n",
              "      <th>title</th>\n",
              "      <th>country</th>\n",
              "      <th>date_added</th>\n",
              "      <th>release_year</th>\n",
              "      <th>rating</th>\n",
              "      <th>duration</th>\n",
              "      <th>listed_in</th>\n",
              "      <th>description</th>\n",
              "    </tr>\n",
              "  </thead>\n",
              "  <tbody>\n",
              "    <tr>\n",
              "      <th>0</th>\n",
              "      <td>81145628</td>\n",
              "      <td>Movie</td>\n",
              "      <td>Norm of the North: King Sized Adventure</td>\n",
              "      <td>United States, India, South Korea, China</td>\n",
              "      <td>September 9, 2019</td>\n",
              "      <td>2019</td>\n",
              "      <td>TV-PG</td>\n",
              "      <td>90 min</td>\n",
              "      <td>Children &amp; Family Movies, Comedies</td>\n",
              "      <td>Before planning an awesome wedding for his gra...</td>\n",
              "    </tr>\n",
              "    <tr>\n",
              "      <th>1</th>\n",
              "      <td>80117401</td>\n",
              "      <td>Movie</td>\n",
              "      <td>Jandino: Whatever it Takes</td>\n",
              "      <td>United Kingdom</td>\n",
              "      <td>September 9, 2016</td>\n",
              "      <td>2016</td>\n",
              "      <td>TV-MA</td>\n",
              "      <td>94 min</td>\n",
              "      <td>Stand-Up Comedy</td>\n",
              "      <td>Jandino Asporaat riffs on the challenges of ra...</td>\n",
              "    </tr>\n",
              "    <tr>\n",
              "      <th>2</th>\n",
              "      <td>70234439</td>\n",
              "      <td>TV Show</td>\n",
              "      <td>Transformers Prime</td>\n",
              "      <td>United States</td>\n",
              "      <td>September 8, 2018</td>\n",
              "      <td>2013</td>\n",
              "      <td>TV-Y7-FV</td>\n",
              "      <td>1 Season</td>\n",
              "      <td>Kids' TV</td>\n",
              "      <td>With the help of three human allies, the Autob...</td>\n",
              "    </tr>\n",
              "    <tr>\n",
              "      <th>3</th>\n",
              "      <td>80058654</td>\n",
              "      <td>TV Show</td>\n",
              "      <td>Transformers: Robots in Disguise</td>\n",
              "      <td>United States</td>\n",
              "      <td>September 8, 2018</td>\n",
              "      <td>2016</td>\n",
              "      <td>TV-Y7</td>\n",
              "      <td>1 Season</td>\n",
              "      <td>Kids' TV</td>\n",
              "      <td>When a prison ship crash unleashes hundreds of...</td>\n",
              "    </tr>\n",
              "    <tr>\n",
              "      <th>4</th>\n",
              "      <td>80125979</td>\n",
              "      <td>Movie</td>\n",
              "      <td>#realityhigh</td>\n",
              "      <td>United States</td>\n",
              "      <td>September 8, 2017</td>\n",
              "      <td>2017</td>\n",
              "      <td>TV-14</td>\n",
              "      <td>99 min</td>\n",
              "      <td>Comedies</td>\n",
              "      <td>When nerdy high schooler Dani finally attracts...</td>\n",
              "    </tr>\n",
              "    <tr>\n",
              "      <th>...</th>\n",
              "      <td>...</td>\n",
              "      <td>...</td>\n",
              "      <td>...</td>\n",
              "      <td>...</td>\n",
              "      <td>...</td>\n",
              "      <td>...</td>\n",
              "      <td>...</td>\n",
              "      <td>...</td>\n",
              "      <td>...</td>\n",
              "      <td>...</td>\n",
              "    </tr>\n",
              "    <tr>\n",
              "      <th>6229</th>\n",
              "      <td>80000063</td>\n",
              "      <td>TV Show</td>\n",
              "      <td>Red vs. Blue</td>\n",
              "      <td>United States</td>\n",
              "      <td>NaN</td>\n",
              "      <td>2015</td>\n",
              "      <td>NR</td>\n",
              "      <td>13 Seasons</td>\n",
              "      <td>TV Action &amp; Adventure, TV Comedies, TV Sci-Fi ...</td>\n",
              "      <td>This parody of first-person shooter games, mil...</td>\n",
              "    </tr>\n",
              "    <tr>\n",
              "      <th>6230</th>\n",
              "      <td>70286564</td>\n",
              "      <td>TV Show</td>\n",
              "      <td>Maron</td>\n",
              "      <td>United States</td>\n",
              "      <td>NaN</td>\n",
              "      <td>2016</td>\n",
              "      <td>TV-MA</td>\n",
              "      <td>4 Seasons</td>\n",
              "      <td>TV Comedies</td>\n",
              "      <td>Marc Maron stars as Marc Maron, who interviews...</td>\n",
              "    </tr>\n",
              "    <tr>\n",
              "      <th>6231</th>\n",
              "      <td>80116008</td>\n",
              "      <td>Movie</td>\n",
              "      <td>Little Baby Bum: Nursery Rhyme Friends</td>\n",
              "      <td>NaN</td>\n",
              "      <td>NaN</td>\n",
              "      <td>2016</td>\n",
              "      <td>NaN</td>\n",
              "      <td>60 min</td>\n",
              "      <td>Movies</td>\n",
              "      <td>Nursery rhymes and original music for children...</td>\n",
              "    </tr>\n",
              "    <tr>\n",
              "      <th>6232</th>\n",
              "      <td>70281022</td>\n",
              "      <td>TV Show</td>\n",
              "      <td>A Young Doctor's Notebook and Other Stories</td>\n",
              "      <td>United Kingdom</td>\n",
              "      <td>NaN</td>\n",
              "      <td>2013</td>\n",
              "      <td>TV-MA</td>\n",
              "      <td>2 Seasons</td>\n",
              "      <td>British TV Shows, TV Comedies, TV Dramas</td>\n",
              "      <td>Set during the Russian Revolution, this comic ...</td>\n",
              "    </tr>\n",
              "    <tr>\n",
              "      <th>6233</th>\n",
              "      <td>70153404</td>\n",
              "      <td>TV Show</td>\n",
              "      <td>Friends</td>\n",
              "      <td>United States</td>\n",
              "      <td>NaN</td>\n",
              "      <td>2003</td>\n",
              "      <td>TV-14</td>\n",
              "      <td>10 Seasons</td>\n",
              "      <td>Classic &amp; Cult TV, TV Comedies</td>\n",
              "      <td>This hit sitcom follows the merry misadventure...</td>\n",
              "    </tr>\n",
              "  </tbody>\n",
              "</table>\n",
              "<p>6234 rows × 10 columns</p>\n",
              "</div>"
            ],
            "text/plain": [
              "       show_id     type                                        title  \\\n",
              "0     81145628    Movie      Norm of the North: King Sized Adventure   \n",
              "1     80117401    Movie                   Jandino: Whatever it Takes   \n",
              "2     70234439  TV Show                           Transformers Prime   \n",
              "3     80058654  TV Show             Transformers: Robots in Disguise   \n",
              "4     80125979    Movie                                 #realityhigh   \n",
              "...        ...      ...                                          ...   \n",
              "6229  80000063  TV Show                                 Red vs. Blue   \n",
              "6230  70286564  TV Show                                        Maron   \n",
              "6231  80116008    Movie       Little Baby Bum: Nursery Rhyme Friends   \n",
              "6232  70281022  TV Show  A Young Doctor's Notebook and Other Stories   \n",
              "6233  70153404  TV Show                                      Friends   \n",
              "\n",
              "                                       country         date_added  \\\n",
              "0     United States, India, South Korea, China  September 9, 2019   \n",
              "1                               United Kingdom  September 9, 2016   \n",
              "2                                United States  September 8, 2018   \n",
              "3                                United States  September 8, 2018   \n",
              "4                                United States  September 8, 2017   \n",
              "...                                        ...                ...   \n",
              "6229                             United States                NaN   \n",
              "6230                             United States                NaN   \n",
              "6231                                       NaN                NaN   \n",
              "6232                            United Kingdom                NaN   \n",
              "6233                             United States                NaN   \n",
              "\n",
              "      release_year    rating    duration  \\\n",
              "0             2019     TV-PG      90 min   \n",
              "1             2016     TV-MA      94 min   \n",
              "2             2013  TV-Y7-FV    1 Season   \n",
              "3             2016     TV-Y7    1 Season   \n",
              "4             2017     TV-14      99 min   \n",
              "...            ...       ...         ...   \n",
              "6229          2015        NR  13 Seasons   \n",
              "6230          2016     TV-MA   4 Seasons   \n",
              "6231          2016       NaN      60 min   \n",
              "6232          2013     TV-MA   2 Seasons   \n",
              "6233          2003     TV-14  10 Seasons   \n",
              "\n",
              "                                              listed_in  \\\n",
              "0                    Children & Family Movies, Comedies   \n",
              "1                                       Stand-Up Comedy   \n",
              "2                                              Kids' TV   \n",
              "3                                              Kids' TV   \n",
              "4                                              Comedies   \n",
              "...                                                 ...   \n",
              "6229  TV Action & Adventure, TV Comedies, TV Sci-Fi ...   \n",
              "6230                                        TV Comedies   \n",
              "6231                                             Movies   \n",
              "6232           British TV Shows, TV Comedies, TV Dramas   \n",
              "6233                     Classic & Cult TV, TV Comedies   \n",
              "\n",
              "                                            description  \n",
              "0     Before planning an awesome wedding for his gra...  \n",
              "1     Jandino Asporaat riffs on the challenges of ra...  \n",
              "2     With the help of three human allies, the Autob...  \n",
              "3     When a prison ship crash unleashes hundreds of...  \n",
              "4     When nerdy high schooler Dani finally attracts...  \n",
              "...                                                 ...  \n",
              "6229  This parody of first-person shooter games, mil...  \n",
              "6230  Marc Maron stars as Marc Maron, who interviews...  \n",
              "6231  Nursery rhymes and original music for children...  \n",
              "6232  Set during the Russian Revolution, this comic ...  \n",
              "6233  This hit sitcom follows the merry misadventure...  \n",
              "\n",
              "[6234 rows x 10 columns]"
            ]
          },
          "execution_count": 11,
          "metadata": {},
          "output_type": "execute_result"
        }
      ],
      "source": [
        "netflix_data_raw"
      ]
    },
    {
      "cell_type": "markdown",
      "metadata": {
        "id": "H3GpgwW67njw"
      },
      "source": [
        "Next, dealing with missing values in country column"
      ]
    },
    {
      "cell_type": "code",
      "execution_count": null,
      "metadata": {
        "id": "LGigFOpK7njw",
        "outputId": "aa365b2e-e98b-4b89-87d1-c29cfbab2f2a"
      },
      "outputs": [
        {
          "data": {
            "text/plain": [
              "United States                                        2032\n",
              "India                                                 777\n",
              "United Kingdom                                        348\n",
              "Japan                                                 176\n",
              "Canada                                                141\n",
              "                                                     ... \n",
              "Slovenia, Croatia, Germany, Czech Republic, Qatar       1\n",
              "Denmark, Zimbabwe                                       1\n",
              "United Arab Emirates, Jordan                            1\n",
              "United States, Greece, United Kingdom                   1\n",
              "France, Poland                                          1\n",
              "Name: country, Length: 554, dtype: int64"
            ]
          },
          "execution_count": 12,
          "metadata": {},
          "output_type": "execute_result"
        }
      ],
      "source": [
        "netflix_data_raw['country'].value_counts().sort_values(ascending= False)"
      ]
    },
    {
      "cell_type": "markdown",
      "metadata": {
        "id": "i8X9E4L-7njw"
      },
      "source": [
        "As the most content is available in United States, we will be replacing the NaN values by United States"
      ]
    },
    {
      "cell_type": "code",
      "execution_count": null,
      "metadata": {
        "id": "fa9ZZOZV7njw"
      },
      "outputs": [],
      "source": [
        "netflix_data_raw['country'].fillna('United States', inplace=True)"
      ]
    },
    {
      "cell_type": "code",
      "execution_count": null,
      "metadata": {
        "id": "xH88UXJL7njw",
        "outputId": "2037d979-e976-4719-ac48-4a318287c7c0"
      },
      "outputs": [
        {
          "data": {
            "text/plain": [
              "0"
            ]
          },
          "execution_count": 14,
          "metadata": {},
          "output_type": "execute_result"
        }
      ],
      "source": [
        "netflix_data_raw['country'].isna().sum()"
      ]
    },
    {
      "cell_type": "markdown",
      "metadata": {
        "id": "f0nGwnx27njx"
      },
      "source": [
        "Next we by looking info about the dataFrame ,the rating column has some missing values"
      ]
    },
    {
      "cell_type": "code",
      "execution_count": null,
      "metadata": {
        "id": "pM50Li0k7njx",
        "outputId": "108a1dda-36cc-4de2-ad3a-54f17d73427b"
      },
      "outputs": [
        {
          "data": {
            "text/plain": [
              "TV-MA       2027\n",
              "TV-14       1698\n",
              "TV-PG        701\n",
              "R            508\n",
              "PG-13        286\n",
              "NR           218\n",
              "PG           184\n",
              "TV-Y7        169\n",
              "TV-G         149\n",
              "TV-Y         143\n",
              "TV-Y7-FV      95\n",
              "G             37\n",
              "UR             7\n",
              "NC-17          2\n",
              "Name: rating, dtype: int64"
            ]
          },
          "execution_count": 15,
          "metadata": {},
          "output_type": "execute_result"
        }
      ],
      "source": [
        "netflix_data_raw['rating'].value_counts().sort_values(ascending=False)"
      ]
    },
    {
      "cell_type": "markdown",
      "metadata": {
        "id": "eifKJaxt7njx"
      },
      "source": [
        "As TV-MA accounts to highest number of rating counts among the other ratings, We will replace the NaN values in rating column by TV-MA "
      ]
    },
    {
      "cell_type": "code",
      "execution_count": null,
      "metadata": {
        "id": "DiA6MQRf7njx"
      },
      "outputs": [],
      "source": [
        "netflix_data_raw['rating'].fillna('TV-MA', inplace=True)"
      ]
    },
    {
      "cell_type": "code",
      "execution_count": null,
      "metadata": {
        "id": "fBnwu_U47njx",
        "outputId": "8bf8f38a-d541-4572-9bc3-ebe3fd054d17"
      },
      "outputs": [
        {
          "data": {
            "text/plain": [
              "0"
            ]
          },
          "execution_count": 17,
          "metadata": {},
          "output_type": "execute_result"
        }
      ],
      "source": [
        "netflix_data_raw['rating'].isna().sum()"
      ]
    },
    {
      "cell_type": "markdown",
      "metadata": {
        "id": "G5l7Iv_K7njy"
      },
      "source": [
        "At last only date_added column is the one which has NaN values "
      ]
    },
    {
      "cell_type": "code",
      "execution_count": null,
      "metadata": {
        "id": "N-CK2-ha7njy",
        "outputId": "49ed3b61-6ef4-4443-93c0-e890e6be56cc"
      },
      "outputs": [
        {
          "data": {
            "text/plain": [
              "11"
            ]
          },
          "execution_count": 18,
          "metadata": {},
          "output_type": "execute_result"
        }
      ],
      "source": [
        "netflix_data_raw['date_added'].isna().sum()"
      ]
    },
    {
      "cell_type": "code",
      "execution_count": null,
      "metadata": {
        "id": "wDAnVNrA7njy"
      },
      "outputs": [],
      "source": [
        "date_added_is_null = netflix_data_raw[netflix_data_raw['date_added'].isnull()]"
      ]
    },
    {
      "cell_type": "code",
      "execution_count": null,
      "metadata": {
        "id": "a4GupRiX7njy",
        "outputId": "b547902e-4995-4554-c2c2-610f43ca4b32"
      },
      "outputs": [
        {
          "data": {
            "text/html": [
              "<div>\n",
              "<style scoped>\n",
              "    .dataframe tbody tr th:only-of-type {\n",
              "        vertical-align: middle;\n",
              "    }\n",
              "\n",
              "    .dataframe tbody tr th {\n",
              "        vertical-align: top;\n",
              "    }\n",
              "\n",
              "    .dataframe thead th {\n",
              "        text-align: right;\n",
              "    }\n",
              "</style>\n",
              "<table border=\"1\" class=\"dataframe\">\n",
              "  <thead>\n",
              "    <tr style=\"text-align: right;\">\n",
              "      <th></th>\n",
              "      <th>show_id</th>\n",
              "      <th>type</th>\n",
              "      <th>title</th>\n",
              "      <th>country</th>\n",
              "      <th>date_added</th>\n",
              "      <th>release_year</th>\n",
              "      <th>rating</th>\n",
              "      <th>duration</th>\n",
              "      <th>listed_in</th>\n",
              "      <th>description</th>\n",
              "    </tr>\n",
              "  </thead>\n",
              "  <tbody>\n",
              "    <tr>\n",
              "      <th>6223</th>\n",
              "      <td>70204989</td>\n",
              "      <td>TV Show</td>\n",
              "      <td>Gunslinger Girl</td>\n",
              "      <td>Japan</td>\n",
              "      <td>NaN</td>\n",
              "      <td>2008</td>\n",
              "      <td>TV-14</td>\n",
              "      <td>2 Seasons</td>\n",
              "      <td>Anime Series, Crime TV Shows</td>\n",
              "      <td>On the surface, the Social Welfare Agency appe...</td>\n",
              "    </tr>\n",
              "    <tr>\n",
              "      <th>6224</th>\n",
              "      <td>70304979</td>\n",
              "      <td>TV Show</td>\n",
              "      <td>Anthony Bourdain: Parts Unknown</td>\n",
              "      <td>United States</td>\n",
              "      <td>NaN</td>\n",
              "      <td>2018</td>\n",
              "      <td>TV-PG</td>\n",
              "      <td>5 Seasons</td>\n",
              "      <td>Docuseries</td>\n",
              "      <td>This CNN original series has chef Anthony Bour...</td>\n",
              "    </tr>\n",
              "    <tr>\n",
              "      <th>6225</th>\n",
              "      <td>70153412</td>\n",
              "      <td>TV Show</td>\n",
              "      <td>Frasier</td>\n",
              "      <td>United States</td>\n",
              "      <td>NaN</td>\n",
              "      <td>2003</td>\n",
              "      <td>TV-PG</td>\n",
              "      <td>11 Seasons</td>\n",
              "      <td>Classic &amp; Cult TV, TV Comedies</td>\n",
              "      <td>Frasier Crane is a snooty but lovable Seattle ...</td>\n",
              "    </tr>\n",
              "    <tr>\n",
              "      <th>6226</th>\n",
              "      <td>70243132</td>\n",
              "      <td>TV Show</td>\n",
              "      <td>La Familia P. Luche</td>\n",
              "      <td>United States</td>\n",
              "      <td>NaN</td>\n",
              "      <td>2012</td>\n",
              "      <td>TV-14</td>\n",
              "      <td>3 Seasons</td>\n",
              "      <td>International TV Shows, Spanish-Language TV Sh...</td>\n",
              "      <td>This irreverent sitcom featues Ludovico, Feder...</td>\n",
              "    </tr>\n",
              "    <tr>\n",
              "      <th>6227</th>\n",
              "      <td>80005756</td>\n",
              "      <td>TV Show</td>\n",
              "      <td>The Adventures of Figaro Pho</td>\n",
              "      <td>Australia</td>\n",
              "      <td>NaN</td>\n",
              "      <td>2015</td>\n",
              "      <td>TV-Y7</td>\n",
              "      <td>2 Seasons</td>\n",
              "      <td>Kids' TV, TV Comedies</td>\n",
              "      <td>Imagine your worst fears, then multiply them: ...</td>\n",
              "    </tr>\n",
              "    <tr>\n",
              "      <th>6228</th>\n",
              "      <td>80159925</td>\n",
              "      <td>TV Show</td>\n",
              "      <td>Kikoriki</td>\n",
              "      <td>United States</td>\n",
              "      <td>NaN</td>\n",
              "      <td>2010</td>\n",
              "      <td>TV-Y</td>\n",
              "      <td>2 Seasons</td>\n",
              "      <td>Kids' TV</td>\n",
              "      <td>A wacky rabbit and his gang of animal pals hav...</td>\n",
              "    </tr>\n",
              "    <tr>\n",
              "      <th>6229</th>\n",
              "      <td>80000063</td>\n",
              "      <td>TV Show</td>\n",
              "      <td>Red vs. Blue</td>\n",
              "      <td>United States</td>\n",
              "      <td>NaN</td>\n",
              "      <td>2015</td>\n",
              "      <td>NR</td>\n",
              "      <td>13 Seasons</td>\n",
              "      <td>TV Action &amp; Adventure, TV Comedies, TV Sci-Fi ...</td>\n",
              "      <td>This parody of first-person shooter games, mil...</td>\n",
              "    </tr>\n",
              "    <tr>\n",
              "      <th>6230</th>\n",
              "      <td>70286564</td>\n",
              "      <td>TV Show</td>\n",
              "      <td>Maron</td>\n",
              "      <td>United States</td>\n",
              "      <td>NaN</td>\n",
              "      <td>2016</td>\n",
              "      <td>TV-MA</td>\n",
              "      <td>4 Seasons</td>\n",
              "      <td>TV Comedies</td>\n",
              "      <td>Marc Maron stars as Marc Maron, who interviews...</td>\n",
              "    </tr>\n",
              "    <tr>\n",
              "      <th>6231</th>\n",
              "      <td>80116008</td>\n",
              "      <td>Movie</td>\n",
              "      <td>Little Baby Bum: Nursery Rhyme Friends</td>\n",
              "      <td>United States</td>\n",
              "      <td>NaN</td>\n",
              "      <td>2016</td>\n",
              "      <td>TV-MA</td>\n",
              "      <td>60 min</td>\n",
              "      <td>Movies</td>\n",
              "      <td>Nursery rhymes and original music for children...</td>\n",
              "    </tr>\n",
              "    <tr>\n",
              "      <th>6232</th>\n",
              "      <td>70281022</td>\n",
              "      <td>TV Show</td>\n",
              "      <td>A Young Doctor's Notebook and Other Stories</td>\n",
              "      <td>United Kingdom</td>\n",
              "      <td>NaN</td>\n",
              "      <td>2013</td>\n",
              "      <td>TV-MA</td>\n",
              "      <td>2 Seasons</td>\n",
              "      <td>British TV Shows, TV Comedies, TV Dramas</td>\n",
              "      <td>Set during the Russian Revolution, this comic ...</td>\n",
              "    </tr>\n",
              "    <tr>\n",
              "      <th>6233</th>\n",
              "      <td>70153404</td>\n",
              "      <td>TV Show</td>\n",
              "      <td>Friends</td>\n",
              "      <td>United States</td>\n",
              "      <td>NaN</td>\n",
              "      <td>2003</td>\n",
              "      <td>TV-14</td>\n",
              "      <td>10 Seasons</td>\n",
              "      <td>Classic &amp; Cult TV, TV Comedies</td>\n",
              "      <td>This hit sitcom follows the merry misadventure...</td>\n",
              "    </tr>\n",
              "  </tbody>\n",
              "</table>\n",
              "</div>"
            ],
            "text/plain": [
              "       show_id     type                                        title  \\\n",
              "6223  70204989  TV Show                              Gunslinger Girl   \n",
              "6224  70304979  TV Show              Anthony Bourdain: Parts Unknown   \n",
              "6225  70153412  TV Show                                      Frasier   \n",
              "6226  70243132  TV Show                          La Familia P. Luche   \n",
              "6227  80005756  TV Show                 The Adventures of Figaro Pho   \n",
              "6228  80159925  TV Show                                     Kikoriki   \n",
              "6229  80000063  TV Show                                 Red vs. Blue   \n",
              "6230  70286564  TV Show                                        Maron   \n",
              "6231  80116008    Movie       Little Baby Bum: Nursery Rhyme Friends   \n",
              "6232  70281022  TV Show  A Young Doctor's Notebook and Other Stories   \n",
              "6233  70153404  TV Show                                      Friends   \n",
              "\n",
              "             country date_added  release_year rating    duration  \\\n",
              "6223           Japan        NaN          2008  TV-14   2 Seasons   \n",
              "6224   United States        NaN          2018  TV-PG   5 Seasons   \n",
              "6225   United States        NaN          2003  TV-PG  11 Seasons   \n",
              "6226   United States        NaN          2012  TV-14   3 Seasons   \n",
              "6227       Australia        NaN          2015  TV-Y7   2 Seasons   \n",
              "6228   United States        NaN          2010   TV-Y   2 Seasons   \n",
              "6229   United States        NaN          2015     NR  13 Seasons   \n",
              "6230   United States        NaN          2016  TV-MA   4 Seasons   \n",
              "6231   United States        NaN          2016  TV-MA      60 min   \n",
              "6232  United Kingdom        NaN          2013  TV-MA   2 Seasons   \n",
              "6233   United States        NaN          2003  TV-14  10 Seasons   \n",
              "\n",
              "                                              listed_in  \\\n",
              "6223                       Anime Series, Crime TV Shows   \n",
              "6224                                         Docuseries   \n",
              "6225                     Classic & Cult TV, TV Comedies   \n",
              "6226  International TV Shows, Spanish-Language TV Sh...   \n",
              "6227                              Kids' TV, TV Comedies   \n",
              "6228                                           Kids' TV   \n",
              "6229  TV Action & Adventure, TV Comedies, TV Sci-Fi ...   \n",
              "6230                                        TV Comedies   \n",
              "6231                                             Movies   \n",
              "6232           British TV Shows, TV Comedies, TV Dramas   \n",
              "6233                     Classic & Cult TV, TV Comedies   \n",
              "\n",
              "                                            description  \n",
              "6223  On the surface, the Social Welfare Agency appe...  \n",
              "6224  This CNN original series has chef Anthony Bour...  \n",
              "6225  Frasier Crane is a snooty but lovable Seattle ...  \n",
              "6226  This irreverent sitcom featues Ludovico, Feder...  \n",
              "6227  Imagine your worst fears, then multiply them: ...  \n",
              "6228  A wacky rabbit and his gang of animal pals hav...  \n",
              "6229  This parody of first-person shooter games, mil...  \n",
              "6230  Marc Maron stars as Marc Maron, who interviews...  \n",
              "6231  Nursery rhymes and original music for children...  \n",
              "6232  Set during the Russian Revolution, this comic ...  \n",
              "6233  This hit sitcom follows the merry misadventure...  "
            ]
          },
          "execution_count": 20,
          "metadata": {},
          "output_type": "execute_result"
        }
      ],
      "source": [
        "date_added_is_null"
      ]
    },
    {
      "cell_type": "markdown",
      "metadata": {
        "id": "_uyJ1U1W7njy"
      },
      "source": [
        "Above is the data frame whch conatins titles whose date_added column contains NaN values.\n",
        "Since 'Friends' is fan favorite TV Show we will replace the NaN value with actucal date"
      ]
    },
    {
      "cell_type": "code",
      "execution_count": null,
      "metadata": {
        "id": "WTVkQaTZ7njy"
      },
      "outputs": [],
      "source": [
        "netflix_data_raw.at[6233, 'date_added'] = ' January 1, 2015'"
      ]
    },
    {
      "cell_type": "code",
      "execution_count": null,
      "metadata": {
        "id": "CbTjjLIq7njz",
        "outputId": "63800b82-8d6f-418a-a681-3a38c4de0059"
      },
      "outputs": [
        {
          "data": {
            "text/html": [
              "<div>\n",
              "<style scoped>\n",
              "    .dataframe tbody tr th:only-of-type {\n",
              "        vertical-align: middle;\n",
              "    }\n",
              "\n",
              "    .dataframe tbody tr th {\n",
              "        vertical-align: top;\n",
              "    }\n",
              "\n",
              "    .dataframe thead th {\n",
              "        text-align: right;\n",
              "    }\n",
              "</style>\n",
              "<table border=\"1\" class=\"dataframe\">\n",
              "  <thead>\n",
              "    <tr style=\"text-align: right;\">\n",
              "      <th></th>\n",
              "      <th>show_id</th>\n",
              "      <th>type</th>\n",
              "      <th>title</th>\n",
              "      <th>country</th>\n",
              "      <th>date_added</th>\n",
              "      <th>release_year</th>\n",
              "      <th>rating</th>\n",
              "      <th>duration</th>\n",
              "      <th>listed_in</th>\n",
              "      <th>description</th>\n",
              "    </tr>\n",
              "  </thead>\n",
              "  <tbody>\n",
              "    <tr>\n",
              "      <th>0</th>\n",
              "      <td>81145628</td>\n",
              "      <td>Movie</td>\n",
              "      <td>Norm of the North: King Sized Adventure</td>\n",
              "      <td>United States, India, South Korea, China</td>\n",
              "      <td>September 9, 2019</td>\n",
              "      <td>2019</td>\n",
              "      <td>TV-PG</td>\n",
              "      <td>90 min</td>\n",
              "      <td>Children &amp; Family Movies, Comedies</td>\n",
              "      <td>Before planning an awesome wedding for his gra...</td>\n",
              "    </tr>\n",
              "    <tr>\n",
              "      <th>1</th>\n",
              "      <td>80117401</td>\n",
              "      <td>Movie</td>\n",
              "      <td>Jandino: Whatever it Takes</td>\n",
              "      <td>United Kingdom</td>\n",
              "      <td>September 9, 2016</td>\n",
              "      <td>2016</td>\n",
              "      <td>TV-MA</td>\n",
              "      <td>94 min</td>\n",
              "      <td>Stand-Up Comedy</td>\n",
              "      <td>Jandino Asporaat riffs on the challenges of ra...</td>\n",
              "    </tr>\n",
              "    <tr>\n",
              "      <th>2</th>\n",
              "      <td>70234439</td>\n",
              "      <td>TV Show</td>\n",
              "      <td>Transformers Prime</td>\n",
              "      <td>United States</td>\n",
              "      <td>September 8, 2018</td>\n",
              "      <td>2013</td>\n",
              "      <td>TV-Y7-FV</td>\n",
              "      <td>1 Season</td>\n",
              "      <td>Kids' TV</td>\n",
              "      <td>With the help of three human allies, the Autob...</td>\n",
              "    </tr>\n",
              "    <tr>\n",
              "      <th>3</th>\n",
              "      <td>80058654</td>\n",
              "      <td>TV Show</td>\n",
              "      <td>Transformers: Robots in Disguise</td>\n",
              "      <td>United States</td>\n",
              "      <td>September 8, 2018</td>\n",
              "      <td>2016</td>\n",
              "      <td>TV-Y7</td>\n",
              "      <td>1 Season</td>\n",
              "      <td>Kids' TV</td>\n",
              "      <td>When a prison ship crash unleashes hundreds of...</td>\n",
              "    </tr>\n",
              "    <tr>\n",
              "      <th>4</th>\n",
              "      <td>80125979</td>\n",
              "      <td>Movie</td>\n",
              "      <td>#realityhigh</td>\n",
              "      <td>United States</td>\n",
              "      <td>September 8, 2017</td>\n",
              "      <td>2017</td>\n",
              "      <td>TV-14</td>\n",
              "      <td>99 min</td>\n",
              "      <td>Comedies</td>\n",
              "      <td>When nerdy high schooler Dani finally attracts...</td>\n",
              "    </tr>\n",
              "    <tr>\n",
              "      <th>...</th>\n",
              "      <td>...</td>\n",
              "      <td>...</td>\n",
              "      <td>...</td>\n",
              "      <td>...</td>\n",
              "      <td>...</td>\n",
              "      <td>...</td>\n",
              "      <td>...</td>\n",
              "      <td>...</td>\n",
              "      <td>...</td>\n",
              "      <td>...</td>\n",
              "    </tr>\n",
              "    <tr>\n",
              "      <th>6229</th>\n",
              "      <td>80000063</td>\n",
              "      <td>TV Show</td>\n",
              "      <td>Red vs. Blue</td>\n",
              "      <td>United States</td>\n",
              "      <td>NaN</td>\n",
              "      <td>2015</td>\n",
              "      <td>NR</td>\n",
              "      <td>13 Seasons</td>\n",
              "      <td>TV Action &amp; Adventure, TV Comedies, TV Sci-Fi ...</td>\n",
              "      <td>This parody of first-person shooter games, mil...</td>\n",
              "    </tr>\n",
              "    <tr>\n",
              "      <th>6230</th>\n",
              "      <td>70286564</td>\n",
              "      <td>TV Show</td>\n",
              "      <td>Maron</td>\n",
              "      <td>United States</td>\n",
              "      <td>NaN</td>\n",
              "      <td>2016</td>\n",
              "      <td>TV-MA</td>\n",
              "      <td>4 Seasons</td>\n",
              "      <td>TV Comedies</td>\n",
              "      <td>Marc Maron stars as Marc Maron, who interviews...</td>\n",
              "    </tr>\n",
              "    <tr>\n",
              "      <th>6231</th>\n",
              "      <td>80116008</td>\n",
              "      <td>Movie</td>\n",
              "      <td>Little Baby Bum: Nursery Rhyme Friends</td>\n",
              "      <td>United States</td>\n",
              "      <td>NaN</td>\n",
              "      <td>2016</td>\n",
              "      <td>TV-MA</td>\n",
              "      <td>60 min</td>\n",
              "      <td>Movies</td>\n",
              "      <td>Nursery rhymes and original music for children...</td>\n",
              "    </tr>\n",
              "    <tr>\n",
              "      <th>6232</th>\n",
              "      <td>70281022</td>\n",
              "      <td>TV Show</td>\n",
              "      <td>A Young Doctor's Notebook and Other Stories</td>\n",
              "      <td>United Kingdom</td>\n",
              "      <td>NaN</td>\n",
              "      <td>2013</td>\n",
              "      <td>TV-MA</td>\n",
              "      <td>2 Seasons</td>\n",
              "      <td>British TV Shows, TV Comedies, TV Dramas</td>\n",
              "      <td>Set during the Russian Revolution, this comic ...</td>\n",
              "    </tr>\n",
              "    <tr>\n",
              "      <th>6233</th>\n",
              "      <td>70153404</td>\n",
              "      <td>TV Show</td>\n",
              "      <td>Friends</td>\n",
              "      <td>United States</td>\n",
              "      <td>January 1, 2015</td>\n",
              "      <td>2003</td>\n",
              "      <td>TV-14</td>\n",
              "      <td>10 Seasons</td>\n",
              "      <td>Classic &amp; Cult TV, TV Comedies</td>\n",
              "      <td>This hit sitcom follows the merry misadventure...</td>\n",
              "    </tr>\n",
              "  </tbody>\n",
              "</table>\n",
              "<p>6234 rows × 10 columns</p>\n",
              "</div>"
            ],
            "text/plain": [
              "       show_id     type                                        title  \\\n",
              "0     81145628    Movie      Norm of the North: King Sized Adventure   \n",
              "1     80117401    Movie                   Jandino: Whatever it Takes   \n",
              "2     70234439  TV Show                           Transformers Prime   \n",
              "3     80058654  TV Show             Transformers: Robots in Disguise   \n",
              "4     80125979    Movie                                 #realityhigh   \n",
              "...        ...      ...                                          ...   \n",
              "6229  80000063  TV Show                                 Red vs. Blue   \n",
              "6230  70286564  TV Show                                        Maron   \n",
              "6231  80116008    Movie       Little Baby Bum: Nursery Rhyme Friends   \n",
              "6232  70281022  TV Show  A Young Doctor's Notebook and Other Stories   \n",
              "6233  70153404  TV Show                                      Friends   \n",
              "\n",
              "                                       country         date_added  \\\n",
              "0     United States, India, South Korea, China  September 9, 2019   \n",
              "1                               United Kingdom  September 9, 2016   \n",
              "2                                United States  September 8, 2018   \n",
              "3                                United States  September 8, 2018   \n",
              "4                                United States  September 8, 2017   \n",
              "...                                        ...                ...   \n",
              "6229                             United States                NaN   \n",
              "6230                             United States                NaN   \n",
              "6231                             United States                NaN   \n",
              "6232                            United Kingdom                NaN   \n",
              "6233                             United States    January 1, 2015   \n",
              "\n",
              "      release_year    rating    duration  \\\n",
              "0             2019     TV-PG      90 min   \n",
              "1             2016     TV-MA      94 min   \n",
              "2             2013  TV-Y7-FV    1 Season   \n",
              "3             2016     TV-Y7    1 Season   \n",
              "4             2017     TV-14      99 min   \n",
              "...            ...       ...         ...   \n",
              "6229          2015        NR  13 Seasons   \n",
              "6230          2016     TV-MA   4 Seasons   \n",
              "6231          2016     TV-MA      60 min   \n",
              "6232          2013     TV-MA   2 Seasons   \n",
              "6233          2003     TV-14  10 Seasons   \n",
              "\n",
              "                                              listed_in  \\\n",
              "0                    Children & Family Movies, Comedies   \n",
              "1                                       Stand-Up Comedy   \n",
              "2                                              Kids' TV   \n",
              "3                                              Kids' TV   \n",
              "4                                              Comedies   \n",
              "...                                                 ...   \n",
              "6229  TV Action & Adventure, TV Comedies, TV Sci-Fi ...   \n",
              "6230                                        TV Comedies   \n",
              "6231                                             Movies   \n",
              "6232           British TV Shows, TV Comedies, TV Dramas   \n",
              "6233                     Classic & Cult TV, TV Comedies   \n",
              "\n",
              "                                            description  \n",
              "0     Before planning an awesome wedding for his gra...  \n",
              "1     Jandino Asporaat riffs on the challenges of ra...  \n",
              "2     With the help of three human allies, the Autob...  \n",
              "3     When a prison ship crash unleashes hundreds of...  \n",
              "4     When nerdy high schooler Dani finally attracts...  \n",
              "...                                                 ...  \n",
              "6229  This parody of first-person shooter games, mil...  \n",
              "6230  Marc Maron stars as Marc Maron, who interviews...  \n",
              "6231  Nursery rhymes and original music for children...  \n",
              "6232  Set during the Russian Revolution, this comic ...  \n",
              "6233  This hit sitcom follows the merry misadventure...  \n",
              "\n",
              "[6234 rows x 10 columns]"
            ]
          },
          "execution_count": 22,
          "metadata": {},
          "output_type": "execute_result"
        }
      ],
      "source": [
        "netflix_data_raw"
      ]
    },
    {
      "cell_type": "markdown",
      "metadata": {
        "id": "Aeix7rdv7njz"
      },
      "source": [
        "We will drop the reaming rows conataining NaN values"
      ]
    },
    {
      "cell_type": "code",
      "execution_count": null,
      "metadata": {
        "id": "tKiTvwSt7njz"
      },
      "outputs": [],
      "source": [
        "netflix_data_raw.dropna(inplace=True)"
      ]
    },
    {
      "cell_type": "code",
      "execution_count": null,
      "metadata": {
        "id": "LxwUjewj7njz",
        "outputId": "dc4b167e-acf9-4022-9efa-17bcf5f262c0"
      },
      "outputs": [
        {
          "data": {
            "text/plain": [
              "show_id         0\n",
              "type            0\n",
              "title           0\n",
              "country         0\n",
              "date_added      0\n",
              "release_year    0\n",
              "rating          0\n",
              "duration        0\n",
              "listed_in       0\n",
              "description     0\n",
              "dtype: int64"
            ]
          },
          "execution_count": 24,
          "metadata": {},
          "output_type": "execute_result"
        }
      ],
      "source": [
        "netflix_data_raw.isna().sum()"
      ]
    },
    {
      "cell_type": "markdown",
      "metadata": {
        "id": "umYEVnhc7njz"
      },
      "source": [
        "Now all the Null values from the data is removed and data is cleaned"
      ]
    },
    {
      "cell_type": "markdown",
      "metadata": {
        "id": "IpYnucIZ7njz"
      },
      "source": [
        "## Exploratory Analysis and Visualization"
      ]
    },
    {
      "cell_type": "markdown",
      "metadata": {
        "id": "jjGIwEh77njz"
      },
      "source": [
        "Number of Movies and TV Shows on Netflix"
      ]
    },
    {
      "cell_type": "code",
      "execution_count": null,
      "metadata": {
        "id": "BJ0Va_WL7nj0"
      },
      "outputs": [],
      "source": [
        "movies_on_netflix = (netflix_data_raw['type']=='Movie').sum()\n",
        "tvShows_on_netflix = (netflix_data_raw['type']=='TV Show').sum()\n",
        "sns.set(style = \"darkgrid\")\n"
      ]
    },
    {
      "cell_type": "code",
      "execution_count": null,
      "metadata": {
        "id": "I0JAOhT87nj0",
        "outputId": "f09b166b-52e9-43ee-a75e-a650d546a1d6"
      },
      "outputs": [
        {
          "data": {
            "image/png": "[encoded data removed]",
            "text/plain": [
              "<Figure size 720x576 with 1 Axes>"
            ]
          },
          "metadata": {},
          "output_type": "display_data"
        }
      ],
      "source": [
        "plt.figure(figsize=(10,8))\n",
        "\n",
        "sns.countplot(x=\"type\", data=netflix_data_raw);"
      ]
    },
    {
      "cell_type": "markdown",
      "metadata": {
        "id": "SU5E1DqU7nj0"
      },
      "source": [
        "It looks like there are more number of movies than TV shows on netflix"
      ]
    },
    {
      "cell_type": "markdown",
      "metadata": {
        "id": "OiNES60M7nj0"
      },
      "source": [
        "We'll take a look at the Pie chart for better understanding in terms of percentage"
      ]
    },
    {
      "cell_type": "code",
      "execution_count": null,
      "metadata": {
        "id": "70LNPMfp7nj0",
        "outputId": "292260c7-dcc7-48cc-8918-8ad41a910e8d"
      },
      "outputs": [
        {
          "data": {
            "image/png": "[encoded data removed]",
            "text/plain": [
              "<Figure size 720x576 with 1 Axes>"
            ]
          },
          "metadata": {},
          "output_type": "display_data"
        }
      ],
      "source": [
        "netflix_data_raw['type'].value_counts().plot.pie(autopct='%1.1f%%',figsize=(10,8));"
      ]
    },
    {
      "cell_type": "code",
      "execution_count": null,
      "metadata": {
        "id": "OjPnEyco7nj0",
        "outputId": "178b699d-2d4e-40cd-a417-5107d868270a"
      },
      "outputs": [
        {
          "data": {
            "text/plain": [
              "Movie      4264\n",
              "TV Show    1960\n",
              "Name: type, dtype: int64"
            ]
          },
          "execution_count": 28,
          "metadata": {},
          "output_type": "execute_result"
        }
      ],
      "source": [
        "netflix_data_raw['type'].value_counts()"
      ]
    },
    {
      "cell_type": "markdown",
      "metadata": {
        "id": "8F1CpIwk7nj0"
      },
      "source": [
        " "
      ]
    },
    {
      "cell_type": "markdown",
      "metadata": {
        "id": "TvZRSo9G7nj1"
      },
      "source": [
        "Movies releases by years"
      ]
    },
    {
      "cell_type": "code",
      "execution_count": null,
      "metadata": {
        "id": "nDqDu8Pn7nj1"
      },
      "outputs": [],
      "source": [
        "movies_on_netflix = netflix_data_raw[netflix_data_raw['type']==\"Movie\"]"
      ]
    },
    {
      "cell_type": "code",
      "execution_count": null,
      "metadata": {
        "id": "HuyGGqRz7nj1",
        "outputId": "76fe4484-c62c-4698-97f0-2c434a276432"
      },
      "outputs": [
        {
          "data": {
            "image/png": "[encoded data removed]",
            "text/plain": [
              "<Figure size 720x576 with 1 Axes>"
            ]
          },
          "metadata": {},
          "output_type": "display_data"
        }
      ],
      "source": [
        "plt.figure(figsize=(10,8))\n",
        "sns.countplot(x = 'release_year', data= movies_on_netflix, order= movies_on_netflix['release_year'].value_counts().index[:10]);\n"
      ]
    },
    {
      "cell_type": "markdown",
      "metadata": {
        "id": "XJpm1NAz7nj1"
      },
      "source": [
        "2017 was the year when most movies were released"
      ]
    },
    {
      "cell_type": "markdown",
      "metadata": {
        "id": "3RYEU_Bp7nj1"
      },
      "source": [
        " "
      ]
    },
    {
      "cell_type": "markdown",
      "metadata": {
        "id": "GBxO4R2j7nj1"
      },
      "source": [
        "TV Show releases by year"
      ]
    },
    {
      "cell_type": "code",
      "execution_count": null,
      "metadata": {
        "id": "ukIqDPpg7nj1"
      },
      "outputs": [],
      "source": [
        "tvshows_on_netflix = netflix_data_raw[netflix_data_raw['type']=='TV Show']"
      ]
    },
    {
      "cell_type": "code",
      "execution_count": null,
      "metadata": {
        "id": "QbAGunc17nj1",
        "outputId": "5b4bf078-fa4b-4adb-b37d-68d749cd4c2a"
      },
      "outputs": [
        {
          "data": {
            "image/png": "[encoded data removed]",
            "text/plain": [
              "<Figure size 720x576 with 1 Axes>"
            ]
          },
          "metadata": {},
          "output_type": "display_data"
        }
      ],
      "source": [
        "plt.figure(figsize=(10,8))\n",
        "sns.countplot(x = 'release_year', data = tvshows_on_netflix, order = tvshows_on_netflix['release_year'].value_counts().index[:10]);"
      ]
    },
    {
      "cell_type": "markdown",
      "metadata": {
        "id": "NaYy02km7nj1"
      },
      "source": [
        "2019 was the year when most TV shows were released closely followed by 2018"
      ]
    },
    {
      "cell_type": "markdown",
      "metadata": {
        "id": "tFINdzJe7nj2"
      },
      "source": [
        "Number of ratings of each type of rating for both TV Show and Movie"
      ]
    },
    {
      "cell_type": "code",
      "execution_count": null,
      "metadata": {
        "id": "XetKNDYU7nj2",
        "outputId": "e11dc57b-ba02-4c2b-bd3a-0d9ffc6385eb"
      },
      "outputs": [
        {
          "data": {
            "image/png": "[encoded data removed]",
            "text/plain": [
              "<Figure size 1440x720 with 1 Axes>"
            ]
          },
          "metadata": {},
          "output_type": "display_data"
        }
      ],
      "source": [
        "plt.figure(figsize=(20,10))\n",
        "sns.countplot(x=\"rating\",data= netflix_data_raw,hue= \"type\",order = netflix_data_raw['rating'].value_counts().index[:]);"
      ]
    },
    {
      "cell_type": "markdown",
      "metadata": {
        "id": "FygHSnw17nj2"
      },
      "source": [
        "Most content on netflix is rated TV-MA"
      ]
    },
    {
      "cell_type": "code",
      "execution_count": null,
      "metadata": {
        "id": "SPXtFkLE7nj2",
        "outputId": "4f4c55ae-2be0-410e-ea9b-00846eafa11f"
      },
      "outputs": [
        {
          "data": {
            "text/plain": [
              "TV-MA       2034\n",
              "TV-14       1696\n",
              "TV-PG        699\n",
              "R            508\n",
              "PG-13        286\n",
              "NR           217\n",
              "PG           184\n",
              "TV-Y7        168\n",
              "TV-G         149\n",
              "TV-Y         142\n",
              "TV-Y7-FV      95\n",
              "G             37\n",
              "UR             7\n",
              "NC-17          2\n",
              "Name: rating, dtype: int64"
            ]
          },
          "execution_count": 34,
          "metadata": {},
          "output_type": "execute_result"
        }
      ],
      "source": [
        "netflix_data_raw['rating'].value_counts()"
      ]
    },
    {
      "cell_type": "code",
      "execution_count": null,
      "metadata": {
        "id": "8CxGsK2G7nj2"
      },
      "outputs": [],
      "source": [
        "# jovian.commit(project=project_name,files = [file_name])"
      ]
    },
    {
      "cell_type": "markdown",
      "metadata": {
        "id": "XcUp-2h27nj2"
      },
      "source": [
        "## Asking and Answering Questions\n"
      ]
    },
    {
      "cell_type": "markdown",
      "metadata": {
        "id": "kV09r_qS7nj2"
      },
      "source": [
        "### Q: which country has the highest number of content available "
      ]
    },
    {
      "cell_type": "code",
      "execution_count": null,
      "metadata": {
        "id": "YN5zu0RU7nj3",
        "outputId": "260aaae6-b8d6-4904-eb5b-b273c2521d40"
      },
      "outputs": [
        {
          "data": {
            "text/html": [
              "<div>\n",
              "<style scoped>\n",
              "    .dataframe tbody tr th:only-of-type {\n",
              "        vertical-align: middle;\n",
              "    }\n",
              "\n",
              "    .dataframe tbody tr th {\n",
              "        vertical-align: top;\n",
              "    }\n",
              "\n",
              "    .dataframe thead th {\n",
              "        text-align: right;\n",
              "    }\n",
              "</style>\n",
              "<table border=\"1\" class=\"dataframe\">\n",
              "  <thead>\n",
              "    <tr style=\"text-align: right;\">\n",
              "      <th></th>\n",
              "      <th>country</th>\n",
              "    </tr>\n",
              "  </thead>\n",
              "  <tbody>\n",
              "    <tr>\n",
              "      <th>United States</th>\n",
              "      <td>2501</td>\n",
              "    </tr>\n",
              "    <tr>\n",
              "      <th>India</th>\n",
              "      <td>777</td>\n",
              "    </tr>\n",
              "    <tr>\n",
              "      <th>United Kingdom</th>\n",
              "      <td>347</td>\n",
              "    </tr>\n",
              "    <tr>\n",
              "      <th>Japan</th>\n",
              "      <td>175</td>\n",
              "    </tr>\n",
              "    <tr>\n",
              "      <th>Canada</th>\n",
              "      <td>141</td>\n",
              "    </tr>\n",
              "    <tr>\n",
              "      <th>South Korea</th>\n",
              "      <td>136</td>\n",
              "    </tr>\n",
              "    <tr>\n",
              "      <th>Spain</th>\n",
              "      <td>117</td>\n",
              "    </tr>\n",
              "    <tr>\n",
              "      <th>France</th>\n",
              "      <td>90</td>\n",
              "    </tr>\n",
              "    <tr>\n",
              "      <th>Mexico</th>\n",
              "      <td>83</td>\n",
              "    </tr>\n",
              "    <tr>\n",
              "      <th>Turkey</th>\n",
              "      <td>79</td>\n",
              "    </tr>\n",
              "  </tbody>\n",
              "</table>\n",
              "</div>"
            ],
            "text/plain": [
              "                country\n",
              "United States      2501\n",
              "India               777\n",
              "United Kingdom      347\n",
              "Japan               175\n",
              "Canada              141\n",
              "South Korea         136\n",
              "Spain               117\n",
              "France               90\n",
              "Mexico               83\n",
              "Turkey               79"
            ]
          },
          "execution_count": 36,
          "metadata": {},
          "output_type": "execute_result"
        }
      ],
      "source": [
        "top_ten_countries =pd.DataFrame(netflix_data_raw['country'].value_counts().sort_values(ascending = False))\n",
        "top_ten_countries = top_ten_countries[:10]\n",
        "top_ten_countries"
      ]
    },
    {
      "cell_type": "markdown",
      "metadata": {
        "id": "CNvQ92Ba7nj3"
      },
      "source": [
        "US has the highest number of content available "
      ]
    },
    {
      "cell_type": "markdown",
      "metadata": {
        "id": "VpWyq6A_7nj3"
      },
      "source": [
        " "
      ]
    },
    {
      "cell_type": "markdown",
      "metadata": {
        "id": "nSi_misD7nj3"
      },
      "source": [
        "### Q: What are some really old movies or Tv Show I can watch on netflix"
      ]
    },
    {
      "cell_type": "code",
      "execution_count": null,
      "metadata": {
        "id": "A0PoNBOs7nj3"
      },
      "outputs": [],
      "source": [
        "old_content = netflix_data_raw.sort_values(by ='release_year')"
      ]
    },
    {
      "cell_type": "code",
      "execution_count": null,
      "metadata": {
        "id": "JiJSZYGu7nj3"
      },
      "outputs": [],
      "source": [
        "old_content = old_content[['release_year', 'title', 'type']]"
      ]
    },
    {
      "cell_type": "code",
      "execution_count": null,
      "metadata": {
        "id": "Px1ErsOS7nj3",
        "outputId": "7829bad3-4a0d-4b00-a38c-8c8b04342dc9"
      },
      "outputs": [
        {
          "data": {
            "text/html": [
              "<div>\n",
              "<style scoped>\n",
              "    .dataframe tbody tr th:only-of-type {\n",
              "        vertical-align: middle;\n",
              "    }\n",
              "\n",
              "    .dataframe tbody tr th {\n",
              "        vertical-align: top;\n",
              "    }\n",
              "\n",
              "    .dataframe thead th {\n",
              "        text-align: right;\n",
              "    }\n",
              "</style>\n",
              "<table border=\"1\" class=\"dataframe\">\n",
              "  <thead>\n",
              "    <tr style=\"text-align: right;\">\n",
              "      <th></th>\n",
              "      <th>release_year</th>\n",
              "      <th>title</th>\n",
              "      <th>type</th>\n",
              "    </tr>\n",
              "  </thead>\n",
              "  <tbody>\n",
              "    <tr>\n",
              "      <th>4292</th>\n",
              "      <td>1925</td>\n",
              "      <td>Pioneers: First Women Filmmakers*</td>\n",
              "      <td>TV Show</td>\n",
              "    </tr>\n",
              "    <tr>\n",
              "      <th>2011</th>\n",
              "      <td>1942</td>\n",
              "      <td>Prelude to War</td>\n",
              "      <td>Movie</td>\n",
              "    </tr>\n",
              "    <tr>\n",
              "      <th>2013</th>\n",
              "      <td>1942</td>\n",
              "      <td>The Battle of Midway</td>\n",
              "      <td>Movie</td>\n",
              "    </tr>\n",
              "    <tr>\n",
              "      <th>2023</th>\n",
              "      <td>1943</td>\n",
              "      <td>Why We Fight: The Battle of Russia</td>\n",
              "      <td>Movie</td>\n",
              "    </tr>\n",
              "    <tr>\n",
              "      <th>2022</th>\n",
              "      <td>1943</td>\n",
              "      <td>Undercover: How to Operate Behind Enemy Lines</td>\n",
              "      <td>Movie</td>\n",
              "    </tr>\n",
              "    <tr>\n",
              "      <th>2026</th>\n",
              "      <td>1943</td>\n",
              "      <td>WWII: Report from the Aleutians</td>\n",
              "      <td>Movie</td>\n",
              "    </tr>\n",
              "    <tr>\n",
              "      <th>2017</th>\n",
              "      <td>1944</td>\n",
              "      <td>The Memphis Belle: A Story of a\\nFlying Fortress</td>\n",
              "      <td>Movie</td>\n",
              "    </tr>\n",
              "    <tr>\n",
              "      <th>2021</th>\n",
              "      <td>1944</td>\n",
              "      <td>Tunisian Victory</td>\n",
              "      <td>Movie</td>\n",
              "    </tr>\n",
              "    <tr>\n",
              "      <th>2019</th>\n",
              "      <td>1944</td>\n",
              "      <td>The Negro Soldier</td>\n",
              "      <td>Movie</td>\n",
              "    </tr>\n",
              "    <tr>\n",
              "      <th>2009</th>\n",
              "      <td>1945</td>\n",
              "      <td>Nazi Concentration Camps</td>\n",
              "      <td>Movie</td>\n",
              "    </tr>\n",
              "  </tbody>\n",
              "</table>\n",
              "</div>"
            ],
            "text/plain": [
              "      release_year                                             title     type\n",
              "4292          1925                 Pioneers: First Women Filmmakers*  TV Show\n",
              "2011          1942                                    Prelude to War    Movie\n",
              "2013          1942                              The Battle of Midway    Movie\n",
              "2023          1943                Why We Fight: The Battle of Russia    Movie\n",
              "2022          1943     Undercover: How to Operate Behind Enemy Lines    Movie\n",
              "2026          1943                   WWII: Report from the Aleutians    Movie\n",
              "2017          1944  The Memphis Belle: A Story of a\\nFlying Fortress    Movie\n",
              "2021          1944                                  Tunisian Victory    Movie\n",
              "2019          1944                                 The Negro Soldier    Movie\n",
              "2009          1945                          Nazi Concentration Camps    Movie"
            ]
          },
          "execution_count": 39,
          "metadata": {},
          "output_type": "execute_result"
        }
      ],
      "source": [
        "old_content[:10]"
      ]
    },
    {
      "cell_type": "markdown",
      "metadata": {
        "id": "Znb2unTB7nj3"
      },
      "source": [
        " So \"Pioneers: First Women Filmmakers\" which was released in year 1925 is the oldest TV Show And \"Prelude to War\" which was released in 1942 is the oldest movie on netflix."
      ]
    },
    {
      "cell_type": "markdown",
      "metadata": {
        "id": "WrnoZcOu7nj4"
      },
      "source": [
        " "
      ]
    },
    {
      "cell_type": "markdown",
      "metadata": {
        "id": "cX2q2wzP7nj4"
      },
      "source": [
        "### Q: What are some titles that kids can watch"
      ]
    },
    {
      "cell_type": "code",
      "execution_count": null,
      "metadata": {
        "id": "fpsxsZt47nj4"
      },
      "outputs": [],
      "source": [
        "kids_content = netflix_data_raw[['title', 'rating', 'type']].copy()"
      ]
    },
    {
      "cell_type": "code",
      "execution_count": null,
      "metadata": {
        "id": "ectNI4TQ7nj4"
      },
      "outputs": [],
      "source": [
        "kids_content = kids_content[kids_content['rating']=='TV-Y7']"
      ]
    },
    {
      "cell_type": "code",
      "execution_count": null,
      "metadata": {
        "id": "TageLwcY7nj4",
        "outputId": "556d15a0-2ab7-451e-a603-b045c2f53096"
      },
      "outputs": [
        {
          "data": {
            "text/html": [
              "<div>\n",
              "<style scoped>\n",
              "    .dataframe tbody tr th:only-of-type {\n",
              "        vertical-align: middle;\n",
              "    }\n",
              "\n",
              "    .dataframe tbody tr th {\n",
              "        vertical-align: top;\n",
              "    }\n",
              "\n",
              "    .dataframe thead th {\n",
              "        text-align: right;\n",
              "    }\n",
              "</style>\n",
              "<table border=\"1\" class=\"dataframe\">\n",
              "  <thead>\n",
              "    <tr style=\"text-align: right;\">\n",
              "      <th></th>\n",
              "      <th>title</th>\n",
              "      <th>rating</th>\n",
              "      <th>type</th>\n",
              "    </tr>\n",
              "  </thead>\n",
              "  <tbody>\n",
              "    <tr>\n",
              "      <th>3</th>\n",
              "      <td>Transformers: Robots in Disguise</td>\n",
              "      <td>TV-Y7</td>\n",
              "      <td>TV Show</td>\n",
              "    </tr>\n",
              "    <tr>\n",
              "      <th>12</th>\n",
              "      <td>Krish Trish and Baltiboy</td>\n",
              "      <td>TV-Y7</td>\n",
              "      <td>Movie</td>\n",
              "    </tr>\n",
              "    <tr>\n",
              "      <th>13</th>\n",
              "      <td>Krish Trish and Baltiboy: Battle of Wits</td>\n",
              "      <td>TV-Y7</td>\n",
              "      <td>Movie</td>\n",
              "    </tr>\n",
              "    <tr>\n",
              "      <th>15</th>\n",
              "      <td>Krish Trish and Baltiboy: Comics of India</td>\n",
              "      <td>TV-Y7</td>\n",
              "      <td>Movie</td>\n",
              "    </tr>\n",
              "    <tr>\n",
              "      <th>16</th>\n",
              "      <td>Krish Trish and Baltiboy: Oversmartness Never ...</td>\n",
              "      <td>TV-Y7</td>\n",
              "      <td>Movie</td>\n",
              "    </tr>\n",
              "    <tr>\n",
              "      <th>17</th>\n",
              "      <td>Krish Trish and Baltiboy: Part II</td>\n",
              "      <td>TV-Y7</td>\n",
              "      <td>Movie</td>\n",
              "    </tr>\n",
              "    <tr>\n",
              "      <th>18</th>\n",
              "      <td>Krish Trish and Baltiboy: The Greatest Trick</td>\n",
              "      <td>TV-Y7</td>\n",
              "      <td>Movie</td>\n",
              "    </tr>\n",
              "    <tr>\n",
              "      <th>34</th>\n",
              "      <td>Archibald's Next Big Thing</td>\n",
              "      <td>TV-Y7</td>\n",
              "      <td>TV Show</td>\n",
              "    </tr>\n",
              "    <tr>\n",
              "      <th>64</th>\n",
              "      <td>Ben 10</td>\n",
              "      <td>TV-Y7</td>\n",
              "      <td>TV Show</td>\n",
              "    </tr>\n",
              "    <tr>\n",
              "      <th>70</th>\n",
              "      <td>We Bare Bears</td>\n",
              "      <td>TV-Y7</td>\n",
              "      <td>TV Show</td>\n",
              "    </tr>\n",
              "    <tr>\n",
              "      <th>85</th>\n",
              "      <td>Monster High: Boo York, Boo York</td>\n",
              "      <td>TV-Y7</td>\n",
              "      <td>Movie</td>\n",
              "    </tr>\n",
              "    <tr>\n",
              "      <th>149</th>\n",
              "      <td>Hilda</td>\n",
              "      <td>TV-Y7</td>\n",
              "      <td>TV Show</td>\n",
              "    </tr>\n",
              "    <tr>\n",
              "      <th>180</th>\n",
              "      <td>Transformers: Rescue Bots</td>\n",
              "      <td>TV-Y7</td>\n",
              "      <td>TV Show</td>\n",
              "    </tr>\n",
              "    <tr>\n",
              "      <th>329</th>\n",
              "      <td>Transformers: Cyberverse</td>\n",
              "      <td>TV-Y7</td>\n",
              "      <td>TV Show</td>\n",
              "    </tr>\n",
              "    <tr>\n",
              "      <th>375</th>\n",
              "      <td>LEGO Elves: Secrets of Elvendale</td>\n",
              "      <td>TV-Y7</td>\n",
              "      <td>TV Show</td>\n",
              "    </tr>\n",
              "  </tbody>\n",
              "</table>\n",
              "</div>"
            ],
            "text/plain": [
              "                                                 title rating     type\n",
              "3                     Transformers: Robots in Disguise  TV-Y7  TV Show\n",
              "12                            Krish Trish and Baltiboy  TV-Y7    Movie\n",
              "13            Krish Trish and Baltiboy: Battle of Wits  TV-Y7    Movie\n",
              "15           Krish Trish and Baltiboy: Comics of India  TV-Y7    Movie\n",
              "16   Krish Trish and Baltiboy: Oversmartness Never ...  TV-Y7    Movie\n",
              "17                   Krish Trish and Baltiboy: Part II  TV-Y7    Movie\n",
              "18        Krish Trish and Baltiboy: The Greatest Trick  TV-Y7    Movie\n",
              "34                          Archibald's Next Big Thing  TV-Y7  TV Show\n",
              "64                                              Ben 10  TV-Y7  TV Show\n",
              "70                                       We Bare Bears  TV-Y7  TV Show\n",
              "85                    Monster High: Boo York, Boo York  TV-Y7    Movie\n",
              "149                                              Hilda  TV-Y7  TV Show\n",
              "180                          Transformers: Rescue Bots  TV-Y7  TV Show\n",
              "329                           Transformers: Cyberverse  TV-Y7  TV Show\n",
              "375                   LEGO Elves: Secrets of Elvendale  TV-Y7  TV Show"
            ]
          },
          "execution_count": 42,
          "metadata": {},
          "output_type": "execute_result"
        }
      ],
      "source": [
        "kids_content[:15]"
      ]
    },
    {
      "cell_type": "markdown",
      "metadata": {
        "id": "YPwjR8xT7nj4"
      },
      "source": [
        " Content for kids is quite good which includes some great titles like \"Ben 10\" and the Transformers"
      ]
    },
    {
      "cell_type": "markdown",
      "metadata": {
        "id": "a5boNaZ27nj4"
      },
      "source": [
        " "
      ]
    },
    {
      "cell_type": "markdown",
      "metadata": {
        "id": "RUFwnjhH7nj4"
      },
      "source": [
        "### Q: What are some latest titles available on netflix"
      ]
    },
    {
      "cell_type": "code",
      "execution_count": null,
      "metadata": {
        "id": "Hu3OFFJh7nj4"
      },
      "outputs": [],
      "source": [
        "latest_content = netflix_data_raw.sort_values(by ='release_year', ascending =False)"
      ]
    },
    {
      "cell_type": "code",
      "execution_count": null,
      "metadata": {
        "id": "9CGkwsIA7nj5"
      },
      "outputs": [],
      "source": [
        "latest_content =latest_content[['release_year', 'title', 'type']]"
      ]
    },
    {
      "cell_type": "code",
      "execution_count": null,
      "metadata": {
        "id": "JLgSxfGG7nj5"
      },
      "outputs": [],
      "source": [
        "latest_content = latest_content[latest_content['release_year']==2020]"
      ]
    },
    {
      "cell_type": "code",
      "execution_count": null,
      "metadata": {
        "id": "oEyyecrj7nj5",
        "outputId": "817c2dad-fd98-4e3b-d7d3-070ac82f1e1d"
      },
      "outputs": [
        {
          "data": {
            "text/html": [
              "<div>\n",
              "<style scoped>\n",
              "    .dataframe tbody tr th:only-of-type {\n",
              "        vertical-align: middle;\n",
              "    }\n",
              "\n",
              "    .dataframe tbody tr th {\n",
              "        vertical-align: top;\n",
              "    }\n",
              "\n",
              "    .dataframe thead th {\n",
              "        text-align: right;\n",
              "    }\n",
              "</style>\n",
              "<table border=\"1\" class=\"dataframe\">\n",
              "  <thead>\n",
              "    <tr style=\"text-align: right;\">\n",
              "      <th></th>\n",
              "      <th>release_year</th>\n",
              "      <th>title</th>\n",
              "      <th>type</th>\n",
              "    </tr>\n",
              "  </thead>\n",
              "  <tbody>\n",
              "    <tr>\n",
              "      <th>3353</th>\n",
              "      <td>2020</td>\n",
              "      <td>Ares</td>\n",
              "      <td>TV Show</td>\n",
              "    </tr>\n",
              "    <tr>\n",
              "      <th>3195</th>\n",
              "      <td>2020</td>\n",
              "      <td>Live Twice, Love Once</td>\n",
              "      <td>Movie</td>\n",
              "    </tr>\n",
              "    <tr>\n",
              "      <th>3220</th>\n",
              "      <td>2020</td>\n",
              "      <td>Dracula</td>\n",
              "      <td>TV Show</td>\n",
              "    </tr>\n",
              "    <tr>\n",
              "      <th>3221</th>\n",
              "      <td>2020</td>\n",
              "      <td>Go! Go! Cory Carson</td>\n",
              "      <td>TV Show</td>\n",
              "    </tr>\n",
              "    <tr>\n",
              "      <th>3249</th>\n",
              "      <td>2020</td>\n",
              "      <td>All the Freckles in the World</td>\n",
              "      <td>Movie</td>\n",
              "    </tr>\n",
              "    <tr>\n",
              "      <th>3573</th>\n",
              "      <td>2020</td>\n",
              "      <td>The Circle</td>\n",
              "      <td>TV Show</td>\n",
              "    </tr>\n",
              "    <tr>\n",
              "      <th>3562</th>\n",
              "      <td>2020</td>\n",
              "      <td>Spinning Out</td>\n",
              "      <td>TV Show</td>\n",
              "    </tr>\n",
              "    <tr>\n",
              "      <th>3546</th>\n",
              "      <td>2020</td>\n",
              "      <td>Nisman: The Prosecutor, the President, and the...</td>\n",
              "      <td>TV Show</td>\n",
              "    </tr>\n",
              "    <tr>\n",
              "      <th>3541</th>\n",
              "      <td>2020</td>\n",
              "      <td>Messiah</td>\n",
              "      <td>TV Show</td>\n",
              "    </tr>\n",
              "    <tr>\n",
              "      <th>3518</th>\n",
              "      <td>2020</td>\n",
              "      <td>Ghost Stories</td>\n",
              "      <td>Movie</td>\n",
              "    </tr>\n",
              "    <tr>\n",
              "      <th>3472</th>\n",
              "      <td>2020</td>\n",
              "      <td>Until Dawn</td>\n",
              "      <td>TV Show</td>\n",
              "    </tr>\n",
              "    <tr>\n",
              "      <th>3467</th>\n",
              "      <td>2020</td>\n",
              "      <td>Medical Police</td>\n",
              "      <td>TV Show</td>\n",
              "    </tr>\n",
              "    <tr>\n",
              "      <th>3466</th>\n",
              "      <td>2020</td>\n",
              "      <td>Jamtara - Sabka Number Ayega</td>\n",
              "      <td>TV Show</td>\n",
              "    </tr>\n",
              "    <tr>\n",
              "      <th>3464</th>\n",
              "      <td>2020</td>\n",
              "      <td>AJ and the Queen</td>\n",
              "      <td>TV Show</td>\n",
              "    </tr>\n",
              "    <tr>\n",
              "      <th>3436</th>\n",
              "      <td>2020</td>\n",
              "      <td>The Healing Powers of Dude</td>\n",
              "      <td>TV Show</td>\n",
              "    </tr>\n",
              "    <tr>\n",
              "      <th>3427</th>\n",
              "      <td>2020</td>\n",
              "      <td>Leslie Jones: Time Machine</td>\n",
              "      <td>Movie</td>\n",
              "    </tr>\n",
              "    <tr>\n",
              "      <th>3426</th>\n",
              "      <td>2020</td>\n",
              "      <td>Kipo and the Age of Wonderbeasts</td>\n",
              "      <td>TV Show</td>\n",
              "    </tr>\n",
              "    <tr>\n",
              "      <th>3325</th>\n",
              "      <td>2020</td>\n",
              "      <td>Sex, Explained</td>\n",
              "      <td>TV Show</td>\n",
              "    </tr>\n",
              "    <tr>\n",
              "      <th>3379</th>\n",
              "      <td>2020</td>\n",
              "      <td>Killer Inside: The Mind of Aaron Hernandez</td>\n",
              "      <td>TV Show</td>\n",
              "    </tr>\n",
              "    <tr>\n",
              "      <th>3352</th>\n",
              "      <td>2020</td>\n",
              "      <td>A Fall from Grace</td>\n",
              "      <td>Movie</td>\n",
              "    </tr>\n",
              "    <tr>\n",
              "      <th>3354</th>\n",
              "      <td>2020</td>\n",
              "      <td>Nailed It! Germany</td>\n",
              "      <td>TV Show</td>\n",
              "    </tr>\n",
              "    <tr>\n",
              "      <th>1315</th>\n",
              "      <td>2020</td>\n",
              "      <td>Maradona in Mexico</td>\n",
              "      <td>TV Show</td>\n",
              "    </tr>\n",
              "    <tr>\n",
              "      <th>3363</th>\n",
              "      <td>2020</td>\n",
              "      <td>Handsome Siblings</td>\n",
              "      <td>TV Show</td>\n",
              "    </tr>\n",
              "    <tr>\n",
              "      <th>3189</th>\n",
              "      <td>2020</td>\n",
              "      <td>Cheer</td>\n",
              "      <td>TV Show</td>\n",
              "    </tr>\n",
              "    <tr>\n",
              "      <th>3180</th>\n",
              "      <td>2020</td>\n",
              "      <td>Bulletproof 2</td>\n",
              "      <td>Movie</td>\n",
              "    </tr>\n",
              "  </tbody>\n",
              "</table>\n",
              "</div>"
            ],
            "text/plain": [
              "      release_year                                              title     type\n",
              "3353          2020                                               Ares  TV Show\n",
              "3195          2020                              Live Twice, Love Once    Movie\n",
              "3220          2020                                            Dracula  TV Show\n",
              "3221          2020                                Go! Go! Cory Carson  TV Show\n",
              "3249          2020                      All the Freckles in the World    Movie\n",
              "3573          2020                                         The Circle  TV Show\n",
              "3562          2020                                       Spinning Out  TV Show\n",
              "3546          2020  Nisman: The Prosecutor, the President, and the...  TV Show\n",
              "3541          2020                                            Messiah  TV Show\n",
              "3518          2020                                      Ghost Stories    Movie\n",
              "3472          2020                                         Until Dawn  TV Show\n",
              "3467          2020                                     Medical Police  TV Show\n",
              "3466          2020                       Jamtara - Sabka Number Ayega  TV Show\n",
              "3464          2020                                   AJ and the Queen  TV Show\n",
              "3436          2020                         The Healing Powers of Dude  TV Show\n",
              "3427          2020                         Leslie Jones: Time Machine    Movie\n",
              "3426          2020                   Kipo and the Age of Wonderbeasts  TV Show\n",
              "3325          2020                                     Sex, Explained  TV Show\n",
              "3379          2020         Killer Inside: The Mind of Aaron Hernandez  TV Show\n",
              "3352          2020                                  A Fall from Grace    Movie\n",
              "3354          2020                                 Nailed It! Germany  TV Show\n",
              "1315          2020                                 Maradona in Mexico  TV Show\n",
              "3363          2020                                  Handsome Siblings  TV Show\n",
              "3189          2020                                              Cheer  TV Show\n",
              "3180          2020                                      Bulletproof 2    Movie"
            ]
          },
          "execution_count": 46,
          "metadata": {},
          "output_type": "execute_result"
        }
      ],
      "source": [
        "latest_content"
      ]
    },
    {
      "cell_type": "markdown",
      "metadata": {
        "id": "yoLWuwI27nj5"
      },
      "source": [
        " There's quite a lot of latest Tv Shows and few movies that are on netflix. "
      ]
    },
    {
      "cell_type": "markdown",
      "metadata": {
        "id": "diB6M71o7nj5"
      },
      "source": [
        " "
      ]
    },
    {
      "cell_type": "markdown",
      "metadata": {
        "id": "777v6KgS7nj5"
      },
      "source": [
        "### Q: Which genre has the highest content available"
      ]
    },
    {
      "cell_type": "code",
      "execution_count": null,
      "metadata": {
        "id": "h-WPMvv67nj5"
      },
      "outputs": [],
      "source": [
        "popular_genre = pd.DataFrame(netflix_data_raw['listed_in'].value_counts().sort_values(ascending= False))"
      ]
    },
    {
      "cell_type": "code",
      "execution_count": null,
      "metadata": {
        "id": "F3duALjI7nj6"
      },
      "outputs": [],
      "source": [
        "popular_genre= popular_genre[:10]"
      ]
    },
    {
      "cell_type": "code",
      "execution_count": null,
      "metadata": {
        "id": "LoddKMrd7nj6",
        "outputId": "baf79c4f-8c0b-41a8-f3b3-3abca1831129"
      },
      "outputs": [
        {
          "data": {
            "text/html": [
              "<div>\n",
              "<style scoped>\n",
              "    .dataframe tbody tr th:only-of-type {\n",
              "        vertical-align: middle;\n",
              "    }\n",
              "\n",
              "    .dataframe tbody tr th {\n",
              "        vertical-align: top;\n",
              "    }\n",
              "\n",
              "    .dataframe thead th {\n",
              "        text-align: right;\n",
              "    }\n",
              "</style>\n",
              "<table border=\"1\" class=\"dataframe\">\n",
              "  <thead>\n",
              "    <tr style=\"text-align: right;\">\n",
              "      <th></th>\n",
              "      <th>listed_in</th>\n",
              "    </tr>\n",
              "  </thead>\n",
              "  <tbody>\n",
              "    <tr>\n",
              "      <th>Documentaries</th>\n",
              "      <td>299</td>\n",
              "    </tr>\n",
              "    <tr>\n",
              "      <th>Stand-Up Comedy</th>\n",
              "      <td>273</td>\n",
              "    </tr>\n",
              "    <tr>\n",
              "      <th>Dramas, International Movies</th>\n",
              "      <td>248</td>\n",
              "    </tr>\n",
              "    <tr>\n",
              "      <th>Dramas, Independent Movies, International Movies</th>\n",
              "      <td>186</td>\n",
              "    </tr>\n",
              "    <tr>\n",
              "      <th>Comedies, Dramas, International Movies</th>\n",
              "      <td>174</td>\n",
              "    </tr>\n",
              "    <tr>\n",
              "      <th>Kids' TV</th>\n",
              "      <td>158</td>\n",
              "    </tr>\n",
              "    <tr>\n",
              "      <th>Documentaries, International Movies</th>\n",
              "      <td>150</td>\n",
              "    </tr>\n",
              "    <tr>\n",
              "      <th>Children &amp; Family Movies, Comedies</th>\n",
              "      <td>129</td>\n",
              "    </tr>\n",
              "    <tr>\n",
              "      <th>Comedies, International Movies</th>\n",
              "      <td>120</td>\n",
              "    </tr>\n",
              "    <tr>\n",
              "      <th>Children &amp; Family Movies</th>\n",
              "      <td>120</td>\n",
              "    </tr>\n",
              "  </tbody>\n",
              "</table>\n",
              "</div>"
            ],
            "text/plain": [
              "                                                  listed_in\n",
              "Documentaries                                           299\n",
              "Stand-Up Comedy                                         273\n",
              "Dramas, International Movies                            248\n",
              "Dramas, Independent Movies, International Movies        186\n",
              "Comedies, Dramas, International Movies                  174\n",
              "Kids' TV                                                158\n",
              "Documentaries, International Movies                     150\n",
              "Children & Family Movies, Comedies                      129\n",
              "Comedies, International Movies                          120\n",
              "Children & Family Movies                                120"
            ]
          },
          "execution_count": 49,
          "metadata": {},
          "output_type": "execute_result"
        }
      ],
      "source": [
        "popular_genre"
      ]
    },
    {
      "cell_type": "markdown",
      "metadata": {
        "id": "_NDdD5Zq7nj6"
      },
      "source": [
        "Documentaries has the highest number closely followed by Stand-Up comedy"
      ]
    },
    {
      "cell_type": "markdown",
      "metadata": {
        "id": "0PYy6Km_7nj6"
      },
      "source": [
        " "
      ]
    },
    {
      "cell_type": "markdown",
      "metadata": {
        "id": "gK4wCi2m7nj6"
      },
      "source": [
        "## Inferences and Conclusion\n",
        "\n",
        "Netflix has different type of content available on the platform but, the number of movies are clearly more than number of Tvshows.\n",
        "\n",
        "US has the most number of content available on netflix but the availability of content is wide aand across many countries.\n",
        "\n",
        "There is content available for every Age-group.\n",
        "\n",
        "With this much content available,Netflix is the goto place for nice relaxing weekends.\n"
      ]
    },
    {
      "cell_type": "markdown",
      "metadata": {
        "id": "aOcHLlCQ7nj6"
      },
      "source": [
        "## References and Future Work"
      ]
    },
    {
      "cell_type": "markdown",
      "metadata": {
        "id": "Ke7kZvg97nj6"
      },
      "source": [
        "Some useful links\n",
        "\n",
        "Netflix data set - https://www.kaggle.com/shivamb/netflix-shows "
      ]
    },
    {
      "cell_type": "code",
      "execution_count": null,
      "metadata": {
        "id": "s6l8JTXL7nj7"
      },
      "outputs": [],
      "source": []
    }
  ],
  "metadata": {
    "kernelspec": {
      "display_name": "Python 3",
      "language": "python",
      "name": "python3"
    },
    "language_info": {
      "codemirror_mode": {
        "name": "ipython",
        "version": 3
      },
      "file_extension": ".py",
      "mimetype": "text/x-python",
      "name": "python",
      "nbconvert_exporter": "python",
      "pygments_lexer": "ipython3",
      "version": "3.8.5"
    },
    "colab": {
      "provenance": [],
      "collapsed_sections": [
        "kV09r_qS7nj2",
        "nSi_misD7nj3",
        "cX2q2wzP7nj4",
        "RUFwnjhH7nj4",
        "gK4wCi2m7nj6"
      ]
    }
  },
  "nbformat": 4,
  "nbformat_minor": 0
}